{
 "cells": [
  {
   "cell_type": "markdown",
   "id": "6bad960f",
   "metadata": {},
   "source": [
    "# Criar alerta para quando determinado par de ação estiver com um valor x de diferença de preço (spread)"
   ]
  },
  {
   "cell_type": "code",
   "execution_count": 1,
   "id": "8be443a2",
   "metadata": {},
   "outputs": [],
   "source": [
    "import yfinance as yf\n",
    "from datetime import date, datetime\n",
    "from time import sleep\n",
    "from win10toast import ToastNotifier \n"
   ]
  },
  {
   "cell_type": "markdown",
   "id": "0dab7317",
   "metadata": {},
   "source": [
    "## Precisamos setar para que os preços sejam checados no intervalo de X minutos."
   ]
  },
  {
   "cell_type": "code",
   "execution_count": 2,
   "id": "86bb84b9",
   "metadata": {},
   "outputs": [],
   "source": [
    "hora_atual = datetime.strftime(datetime.now(), '%H:%M')\n",
    "notification = ToastNotifier() \n",
    "\n",
    "## Checar se horário atual está dentro do horário de negociações da bolsa. 10h as 17:55\n",
    "stock_pair = []\n",
    "quinze_minutos = 60*15\n",
    "\n",
    "def checa_horario(time):\n",
    "    abertura = '10:00'\n",
    "    fechamento = '17:55'\n",
    "    \n",
    "    if (time > abertura) and (time < fechamento):\n",
    "        return True\n",
    "    else:\n",
    "        return False"
   ]
  },
  {
   "cell_type": "code",
   "execution_count": 3,
   "id": "9b730b2f",
   "metadata": {},
   "outputs": [],
   "source": [
    "PRECO_ABAIXO = 'O valor do spread atual está abaixo do selecionado, pode abrir ordem.'\n",
    "PRECO_ACIMA = 'O valor do spread atual está acima do selecionado, pode abrir ordem.'\n",
    "\n",
    "def checar_precos(spread, pos):\n",
    "\n",
    "    first_pair = []\n",
    "    second_pair = []\n",
    "\n",
    "    for i in range(0, len(stock_pair),1):\n",
    "        if i == 0:\n",
    "            ticker = yf.Ticker(stock_pair[i])\n",
    "            price = ticker.info['regularMarketPrice']\n",
    "            name = ticker.info['symbol']\n",
    "            first_pair.append(name)\n",
    "            first_pair.append(price)\n",
    "        else:        \n",
    "            ticker = yf.Ticker(stock_pair[i])\n",
    "            price = ticker.info['regularMarketPrice']\n",
    "            name = ticker.info['symbol']     \n",
    "            second_pair.append(name)\n",
    "            second_pair.append(price)\n",
    "    \n",
    "    diferenca_preco = round(first_pair[1] - second_pair[1], 2)\n",
    "    print('A diferença de preços entre os dois ativos é de: R$ ', diferenca_preco)\n",
    "    \n",
    "    if pos == 'acima' and spread < diferenca_preco:\n",
    "        notification.show_toast('ALERTA DE PREÇO', PRECO_ABAIXO, duration=10)\n",
    "        print(PRECO_ABAIXO)\n",
    "    elif pos != 'acima' and spread > diferenca_preco:\n",
    "        notification.show_toast('ALERTA DE PREÇO', PRECO_ACIMA, duration=10)\n",
    "        print(PRECO_ACIMA)\n"
   ]
  },
  {
   "cell_type": "code",
   "execution_count": 4,
   "id": "a53fa025",
   "metadata": {},
   "outputs": [
    {
     "name": "stdout",
     "output_type": "stream",
     "text": [
      "Digite o ticker do primeiro par (de preço mais alto) CPLE6\n",
      "Digite o ticker do segundo par (de preço mais alto) CPLE3\n",
      "Digite o valor do spread que deseja ser alertado, separando os centavos com ponto ao invés de vírgula. Ex: 0.50 0.65\n",
      "Digite se deseja ser alertado quando o spread esteja acima ou abaixo do valor digitado anteriormente acima\n"
     ]
    }
   ],
   "source": [
    "ticker1 = input('Digite o ticker do primeiro par (de preço mais alto) ')+'.SA'\n",
    "stock_pair.append(ticker1)\n",
    "ticker2 = input('Digite o ticker do segundo par (de preço mais alto) ')+'.SA'\n",
    "stock_pair.append(ticker2)\n",
    "\n",
    "spread = float(input('Digite o valor do spread que deseja ser alertado, separando os centavos com ponto ao invés de vírgula. Ex: 0.50 '))\n",
    "pos = input('Digite se deseja ser alertado quando o spread esteja acima ou abaixo do valor digitado anteriormente ')"
   ]
  },
  {
   "cell_type": "code",
   "execution_count": null,
   "id": "89618692",
   "metadata": {},
   "outputs": [
    {
     "name": "stdout",
     "output_type": "stream",
     "text": [
      "A diferença de preços entre os dois ativos é de: R$  0.68\n",
      "O valor do spread atual está abaixo do selecionado, pode abrir ordem de venda\n",
      "A diferença de preços entre os dois ativos é de: R$  0.71\n",
      "O valor do spread atual está abaixo do selecionado, pode abrir ordem de venda\n",
      "A diferença de preços entre os dois ativos é de: R$  0.76\n",
      "O valor do spread atual está abaixo do selecionado, pode abrir ordem de venda\n",
      "A diferença de preços entre os dois ativos é de: R$  0.77\n",
      "O valor do spread atual está abaixo do selecionado, pode abrir ordem de venda\n",
      "A diferença de preços entre os dois ativos é de: R$  0.76\n",
      "O valor do spread atual está abaixo do selecionado, pode abrir ordem de venda\n"
     ]
    }
   ],
   "source": [
    "while checa_horario(hora_atual):\n",
    "    checar_precos(spread, pos)\n",
    "    sleep(quinze_minutos)\n"
   ]
  },
  {
   "cell_type": "code",
   "execution_count": 2,
   "id": "4390ebf5",
   "metadata": {},
   "outputs": [
    {
     "name": "stdout",
     "output_type": "stream",
     "text": [
      "Collecting win10toast\n",
      "  Downloading win10toast-0.9-py2.py3-none-any.whl (21 kB)\n",
      "Collecting pypiwin32\n",
      "  Downloading pypiwin32-223-py3-none-any.whl (1.7 kB)\n",
      "Requirement already satisfied: setuptools in c:\\users\\joão fernando\\appdata\\local\\programs\\python\\python310\\lib\\site-packages (from win10toast) (63.2.0)\n",
      "Requirement already satisfied: pywin32>=223 in c:\\users\\joão fernando\\appdata\\local\\programs\\python\\python310\\lib\\site-packages (from pypiwin32->win10toast) (304)\n",
      "Installing collected packages: pypiwin32, win10toast\n",
      "Successfully installed pypiwin32-223 win10toast-0.9\n"
     ]
    },
    {
     "name": "stderr",
     "output_type": "stream",
     "text": [
      "\n",
      "[notice] A new release of pip available: 22.3 -> 22.3.1\n",
      "[notice] To update, run: python.exe -m pip install --upgrade pip\n"
     ]
    }
   ],
   "source": []
  },
  {
   "cell_type": "code",
   "execution_count": null,
   "id": "38cb7011",
   "metadata": {},
   "outputs": [],
   "source": []
  }
 ],
 "metadata": {
  "kernelspec": {
   "display_name": "Python 3 (ipykernel)",
   "language": "python",
   "name": "python3"
  },
  "language_info": {
   "codemirror_mode": {
    "name": "ipython",
    "version": 3
   },
   "file_extension": ".py",
   "mimetype": "text/x-python",
   "name": "python",
   "nbconvert_exporter": "python",
   "pygments_lexer": "ipython3",
   "version": "3.10.6"
  }
 },
 "nbformat": 4,
 "nbformat_minor": 5
}
